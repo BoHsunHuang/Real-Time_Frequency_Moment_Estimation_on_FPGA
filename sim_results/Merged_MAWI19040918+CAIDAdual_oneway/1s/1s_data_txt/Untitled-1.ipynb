{
 "cells": [
  {
   "cell_type": "code",
   "execution_count": null,
   "metadata": {},
   "outputs": [],
   "source": [
    "import matplotlib.pyplot as plt\n",
    "\n",
    "def plot_single_column_text_file(file_path):\n",
    "    data = []\n",
    "    with open(file_path, 'r') as file:\n",
    "        for line in file:\n",
    "            data.append(float(line.strip()))  # Assuming the values are floating-point numbers\n",
    "    \n",
    "    plt.plot(data)\n",
    "    plt.xlabel('Index')\n",
    "    plt.ylabel('Value')\n",
    "    plt.title('Plot of Single Column Data')\n",
    "    plt.grid(True)\n",
    "    plt.show()\n",
    "\n",
    "if __name__ == \"__main__\":\n",
    "    file_path = \"path/to/your/single_column_file.txt\"  # Replace this with the path to your file\n",
    "    plot_single_column_text_file(file_path)\n"
   ]
  }
 ],
 "metadata": {
  "language_info": {
   "name": "python"
  },
  "orig_nbformat": 4
 },
 "nbformat": 4,
 "nbformat_minor": 2
}
